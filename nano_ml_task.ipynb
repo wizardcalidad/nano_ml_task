{
 "cells": [
  {
   "cell_type": "markdown",
   "id": "labeled-netherlands",
   "metadata": {},
   "source": [
    "# The Nanos ML Task"
   ]
  },
  {
   "cell_type": "markdown",
   "id": "rotary-gregory",
   "metadata": {},
   "source": [
    "### Firstly, i set up an environment where i installed all my dependencies so as not to be difficult if i am going to push to git or someone else trying to use the code will not be seeing a lot of unnecessary requirements."
   ]
  },
  {
   "cell_type": "code",
   "execution_count": 1,
   "id": "dominican-guess",
   "metadata": {},
   "outputs": [],
   "source": [
    "%load_ext autoreload\n",
    "%autoreload 2"
   ]
  },
  {
   "cell_type": "code",
   "execution_count": 2,
   "id": "vertical-printer",
   "metadata": {},
   "outputs": [],
   "source": [
    "import numpy as np\n",
    "import pandas as pd\n",
    "import sklearn\n",
    "import matplotlib.pyplot as plt\n",
    "import seaborn as sb\n",
    "\n",
    "from scipy import stats\n",
    "from scipy.stats import pearsonr\n",
    "\n",
    "from numpy import absolute, std, mean, linspace\n",
    "\n",
    "from sklearn.preprocessing import MinMaxScaler, StandardScaler\n",
    "from sklearn.preprocessing import OneHotEncoder\n",
    "from sklearn.compose import ColumnTransformer\n",
    "from sklearn.pipeline import Pipeline\n",
    "from sklearn.impute import SimpleImputer\n",
    "\n",
    "from sklearn.linear_model import LinearRegression, Lasso, Ridge\n",
    "from sklearn.model_selection import train_test_split, RepeatedKFold, cross_val_score, GridSearchCV\n",
    "\n",
    "\n",
    "\n",
    "from sklearn.metrics import r2_score\n",
    "from sklearn.metrics import mean_squared_error\n",
    "from sklearn.preprocessing import StandardScaler\n",
    "from sklearn.decomposition import PCA"
   ]
  },
  {
   "cell_type": "markdown",
   "id": "australian-credits",
   "metadata": {},
   "source": [
    "Re-arranging the dataset for tidyness, i ensure to have imported all the needed libraries before starting up so that they can be in one place to ease readability."
   ]
  },
  {
   "cell_type": "markdown",
   "id": "fixed-password",
   "metadata": {},
   "source": [
    "# 1. Read the file and display columns"
   ]
  },
  {
   "cell_type": "code",
   "execution_count": 3,
   "id": "perfect-oliver",
   "metadata": {},
   "outputs": [],
   "source": [
    "df = pd.read_csv(\"MLTask/cruise_ship_info.csv\")"
   ]
  },
  {
   "cell_type": "code",
   "execution_count": 4,
   "id": "vietnamese-gibraltar",
   "metadata": {},
   "outputs": [
    {
     "data": {
      "text/html": [
       "<div>\n",
       "<style scoped>\n",
       "    .dataframe tbody tr th:only-of-type {\n",
       "        vertical-align: middle;\n",
       "    }\n",
       "\n",
       "    .dataframe tbody tr th {\n",
       "        vertical-align: top;\n",
       "    }\n",
       "\n",
       "    .dataframe thead th {\n",
       "        text-align: right;\n",
       "    }\n",
       "</style>\n",
       "<table border=\"1\" class=\"dataframe\">\n",
       "  <thead>\n",
       "    <tr style=\"text-align: right;\">\n",
       "      <th></th>\n",
       "      <th>Ship_name</th>\n",
       "      <th>Cruise_line</th>\n",
       "      <th>Age</th>\n",
       "      <th>Tonnage</th>\n",
       "      <th>passengers</th>\n",
       "      <th>length</th>\n",
       "      <th>cabins</th>\n",
       "      <th>passenger_density</th>\n",
       "      <th>crew</th>\n",
       "    </tr>\n",
       "  </thead>\n",
       "  <tbody>\n",
       "    <tr>\n",
       "      <th>0</th>\n",
       "      <td>Journey</td>\n",
       "      <td>Azamara</td>\n",
       "      <td>6</td>\n",
       "      <td>30.277</td>\n",
       "      <td>6.94</td>\n",
       "      <td>5.94</td>\n",
       "      <td>3.55</td>\n",
       "      <td>42.64</td>\n",
       "      <td>3.55</td>\n",
       "    </tr>\n",
       "    <tr>\n",
       "      <th>1</th>\n",
       "      <td>Quest</td>\n",
       "      <td>Azamara</td>\n",
       "      <td>6</td>\n",
       "      <td>30.277</td>\n",
       "      <td>6.94</td>\n",
       "      <td>5.94</td>\n",
       "      <td>3.55</td>\n",
       "      <td>42.64</td>\n",
       "      <td>3.55</td>\n",
       "    </tr>\n",
       "    <tr>\n",
       "      <th>2</th>\n",
       "      <td>Celebration</td>\n",
       "      <td>Carnival</td>\n",
       "      <td>26</td>\n",
       "      <td>47.262</td>\n",
       "      <td>14.86</td>\n",
       "      <td>7.22</td>\n",
       "      <td>7.43</td>\n",
       "      <td>31.80</td>\n",
       "      <td>6.70</td>\n",
       "    </tr>\n",
       "    <tr>\n",
       "      <th>3</th>\n",
       "      <td>Conquest</td>\n",
       "      <td>Carnival</td>\n",
       "      <td>11</td>\n",
       "      <td>110.000</td>\n",
       "      <td>29.74</td>\n",
       "      <td>9.53</td>\n",
       "      <td>14.88</td>\n",
       "      <td>36.99</td>\n",
       "      <td>19.10</td>\n",
       "    </tr>\n",
       "    <tr>\n",
       "      <th>4</th>\n",
       "      <td>Destiny</td>\n",
       "      <td>Carnival</td>\n",
       "      <td>17</td>\n",
       "      <td>101.353</td>\n",
       "      <td>26.42</td>\n",
       "      <td>8.92</td>\n",
       "      <td>13.21</td>\n",
       "      <td>38.36</td>\n",
       "      <td>10.00</td>\n",
       "    </tr>\n",
       "  </tbody>\n",
       "</table>\n",
       "</div>"
      ],
      "text/plain": [
       "     Ship_name Cruise_line  Age  Tonnage  passengers  length  cabins  \\\n",
       "0      Journey     Azamara    6   30.277        6.94    5.94    3.55   \n",
       "1        Quest     Azamara    6   30.277        6.94    5.94    3.55   \n",
       "2  Celebration    Carnival   26   47.262       14.86    7.22    7.43   \n",
       "3     Conquest    Carnival   11  110.000       29.74    9.53   14.88   \n",
       "4      Destiny    Carnival   17  101.353       26.42    8.92   13.21   \n",
       "\n",
       "   passenger_density   crew  \n",
       "0              42.64   3.55  \n",
       "1              42.64   3.55  \n",
       "2              31.80   6.70  \n",
       "3              36.99  19.10  \n",
       "4              38.36  10.00  "
      ]
     },
     "execution_count": 4,
     "metadata": {},
     "output_type": "execute_result"
    }
   ],
   "source": [
    "df.head()"
   ]
  },
  {
   "cell_type": "markdown",
   "id": "informal-richardson",
   "metadata": {},
   "source": [
    "Checking for missing values"
   ]
  },
  {
   "cell_type": "code",
   "execution_count": 5,
   "id": "ready-delivery",
   "metadata": {},
   "outputs": [
    {
     "data": {
      "text/plain": [
       "Ship_name            0\n",
       "Cruise_line          0\n",
       "Age                  0\n",
       "Tonnage              0\n",
       "passengers           0\n",
       "length               0\n",
       "cabins               0\n",
       "passenger_density    0\n",
       "crew                 0\n",
       "dtype: int64"
      ]
     },
     "execution_count": 5,
     "metadata": {},
     "output_type": "execute_result"
    }
   ],
   "source": [
    "df.isna().sum()"
   ]
  },
  {
   "cell_type": "markdown",
   "id": "aging-diagnosis",
   "metadata": {},
   "source": [
    "# 2. Calculate some basic statistics from this data(count, mean, std, etc)."
   ]
  },
  {
   "cell_type": "code",
   "execution_count": 6,
   "id": "improving-subscriber",
   "metadata": {},
   "outputs": [
    {
     "data": {
      "text/html": [
       "<div>\n",
       "<style scoped>\n",
       "    .dataframe tbody tr th:only-of-type {\n",
       "        vertical-align: middle;\n",
       "    }\n",
       "\n",
       "    .dataframe tbody tr th {\n",
       "        vertical-align: top;\n",
       "    }\n",
       "\n",
       "    .dataframe thead th {\n",
       "        text-align: right;\n",
       "    }\n",
       "</style>\n",
       "<table border=\"1\" class=\"dataframe\">\n",
       "  <thead>\n",
       "    <tr style=\"text-align: right;\">\n",
       "      <th></th>\n",
       "      <th>Age</th>\n",
       "      <th>Tonnage</th>\n",
       "      <th>passengers</th>\n",
       "      <th>length</th>\n",
       "      <th>cabins</th>\n",
       "      <th>passenger_density</th>\n",
       "      <th>crew</th>\n",
       "    </tr>\n",
       "  </thead>\n",
       "  <tbody>\n",
       "    <tr>\n",
       "      <th>count</th>\n",
       "      <td>158.000000</td>\n",
       "      <td>158.000000</td>\n",
       "      <td>158.000000</td>\n",
       "      <td>158.000000</td>\n",
       "      <td>158.000000</td>\n",
       "      <td>158.000000</td>\n",
       "      <td>158.000000</td>\n",
       "    </tr>\n",
       "    <tr>\n",
       "      <th>mean</th>\n",
       "      <td>15.689873</td>\n",
       "      <td>71.284671</td>\n",
       "      <td>18.457405</td>\n",
       "      <td>8.130633</td>\n",
       "      <td>8.830000</td>\n",
       "      <td>39.900949</td>\n",
       "      <td>7.794177</td>\n",
       "    </tr>\n",
       "    <tr>\n",
       "      <th>std</th>\n",
       "      <td>7.615691</td>\n",
       "      <td>37.229540</td>\n",
       "      <td>9.677095</td>\n",
       "      <td>1.793474</td>\n",
       "      <td>4.471417</td>\n",
       "      <td>8.639217</td>\n",
       "      <td>3.503487</td>\n",
       "    </tr>\n",
       "    <tr>\n",
       "      <th>min</th>\n",
       "      <td>4.000000</td>\n",
       "      <td>2.329000</td>\n",
       "      <td>0.660000</td>\n",
       "      <td>2.790000</td>\n",
       "      <td>0.330000</td>\n",
       "      <td>17.700000</td>\n",
       "      <td>0.590000</td>\n",
       "    </tr>\n",
       "    <tr>\n",
       "      <th>25%</th>\n",
       "      <td>10.000000</td>\n",
       "      <td>46.013000</td>\n",
       "      <td>12.535000</td>\n",
       "      <td>7.100000</td>\n",
       "      <td>6.132500</td>\n",
       "      <td>34.570000</td>\n",
       "      <td>5.480000</td>\n",
       "    </tr>\n",
       "    <tr>\n",
       "      <th>50%</th>\n",
       "      <td>14.000000</td>\n",
       "      <td>71.899000</td>\n",
       "      <td>19.500000</td>\n",
       "      <td>8.555000</td>\n",
       "      <td>9.570000</td>\n",
       "      <td>39.085000</td>\n",
       "      <td>8.150000</td>\n",
       "    </tr>\n",
       "    <tr>\n",
       "      <th>75%</th>\n",
       "      <td>20.000000</td>\n",
       "      <td>90.772500</td>\n",
       "      <td>24.845000</td>\n",
       "      <td>9.510000</td>\n",
       "      <td>10.885000</td>\n",
       "      <td>44.185000</td>\n",
       "      <td>9.990000</td>\n",
       "    </tr>\n",
       "    <tr>\n",
       "      <th>max</th>\n",
       "      <td>48.000000</td>\n",
       "      <td>220.000000</td>\n",
       "      <td>54.000000</td>\n",
       "      <td>11.820000</td>\n",
       "      <td>27.000000</td>\n",
       "      <td>71.430000</td>\n",
       "      <td>21.000000</td>\n",
       "    </tr>\n",
       "  </tbody>\n",
       "</table>\n",
       "</div>"
      ],
      "text/plain": [
       "              Age     Tonnage  passengers      length      cabins  \\\n",
       "count  158.000000  158.000000  158.000000  158.000000  158.000000   \n",
       "mean    15.689873   71.284671   18.457405    8.130633    8.830000   \n",
       "std      7.615691   37.229540    9.677095    1.793474    4.471417   \n",
       "min      4.000000    2.329000    0.660000    2.790000    0.330000   \n",
       "25%     10.000000   46.013000   12.535000    7.100000    6.132500   \n",
       "50%     14.000000   71.899000   19.500000    8.555000    9.570000   \n",
       "75%     20.000000   90.772500   24.845000    9.510000   10.885000   \n",
       "max     48.000000  220.000000   54.000000   11.820000   27.000000   \n",
       "\n",
       "       passenger_density        crew  \n",
       "count         158.000000  158.000000  \n",
       "mean           39.900949    7.794177  \n",
       "std             8.639217    3.503487  \n",
       "min            17.700000    0.590000  \n",
       "25%            34.570000    5.480000  \n",
       "50%            39.085000    8.150000  \n",
       "75%            44.185000    9.990000  \n",
       "max            71.430000   21.000000  "
      ]
     },
     "execution_count": 6,
     "metadata": {},
     "output_type": "execute_result"
    }
   ],
   "source": [
    "df.describe()"
   ]
  },
  {
   "cell_type": "code",
   "execution_count": 7,
   "id": "south-rough",
   "metadata": {},
   "outputs": [
    {
     "data": {
      "text/plain": [
       "<AxesSubplot:>"
      ]
     },
     "execution_count": 7,
     "metadata": {},
     "output_type": "execute_result"
    },
    {
     "data": {
      "image/png": "[encoded data removed]",
      "text/plain": [
       "<Figure size 432x288 with 1 Axes>"
      ]
     },
     "metadata": {
      "needs_background": "light"
     },
     "output_type": "display_data"
    }
   ],
   "source": [
    "df.boxplot()"
   ]
  },
  {
   "cell_type": "code",
   "execution_count": 8,
   "id": "acknowledged-requirement",
   "metadata": {},
   "outputs": [
    {
     "data": {
      "text/plain": [
       "array([[<AxesSubplot:title={'center':'Age'}>,\n",
       "        <AxesSubplot:title={'center':'Tonnage'}>,\n",
       "        <AxesSubplot:title={'center':'passengers'}>],\n",
       "       [<AxesSubplot:title={'center':'length'}>,\n",
       "        <AxesSubplot:title={'center':'cabins'}>,\n",
       "        <AxesSubplot:title={'center':'passenger_density'}>],\n",
       "       [<AxesSubplot:title={'center':'crew'}>, <AxesSubplot:>,\n",
       "        <AxesSubplot:>]], dtype=object)"
      ]
     },
     "execution_count": 8,
     "metadata": {},
     "output_type": "execute_result"
    },
    {
     "data": {
      "image/png": "[encoded data removed]",
      "text/plain": [
       "<Figure size 432x288 with 9 Axes>"
      ]
     },
     "metadata": {
      "needs_background": "light"
     },
     "output_type": "display_data"
    }
   ],
   "source": [
    "df.hist()"
   ]
  },
  {
   "cell_type": "markdown",
   "id": "theoretical-belief",
   "metadata": {},
   "source": [
    "From the dataset, it is obvious the dataset is not properly scaled, some features has high dimension while some features with very small dimension. Some has their maximum as 220 while another 11.8.\n",
    "There are sizeable outliers with the Tonnage attribute and few others\n",
    "passenger_density, passenger seem to have a even normal distribution."
   ]
  },
  {
   "cell_type": "markdown",
   "id": "hydraulic-greeting",
   "metadata": {},
   "source": [
    "# 3. Selecting Important Columns and dropping off those not important"
   ]
  },
  {
   "cell_type": "markdown",
   "id": "simple-combination",
   "metadata": {},
   "source": [
    "There are several ways of going about this task, it is normally called Feature Engineering, which involved Feature Selection, Feature Extraction and Dimentionality reduction. PCA is a popular method used for dimensionality reduction but here we wil check out the correlation through a scatter plot.\n"
   ]
  },
  {
   "cell_type": "markdown",
   "id": "liked-monaco",
   "metadata": {},
   "source": [
    "checking Age's correlation against Crew size"
   ]
  },
  {
   "cell_type": "code",
   "execution_count": 9,
   "id": "provincial-bulgarian",
   "metadata": {},
   "outputs": [],
   "source": [
    "crew = df['crew']\n",
    "Age = df['Age']"
   ]
  },
  {
   "cell_type": "code",
   "execution_count": 10,
   "id": "beginning-silly",
   "metadata": {},
   "outputs": [
    {
     "data": {
      "image/png": "[encoded data removed]",
      "text/plain": [
       "<Figure size 432x288 with 1 Axes>"
      ]
     },
     "metadata": {
      "needs_background": "light"
     },
     "output_type": "display_data"
    }
   ],
   "source": [
    "plt.scatter(crew, Age)\n",
    "plt.show()"
   ]
  },
  {
   "cell_type": "markdown",
   "id": "affiliated-voice",
   "metadata": {},
   "source": [
    "checking Ship_name's correlation against Crew size"
   ]
  },
  {
   "cell_type": "code",
   "execution_count": 11,
   "id": "concrete-bowling",
   "metadata": {},
   "outputs": [
    {
     "data": {
      "image/png": "[encoded data removed]",
      "text/plain": [
       "<Figure size 432x288 with 1 Axes>"
      ]
     },
     "metadata": {
      "needs_background": "light"
     },
     "output_type": "display_data"
    }
   ],
   "source": [
    "crew = df['crew']\n",
    "name = df['Ship_name']\n",
    "plt.scatter(crew, name)\n",
    "plt.show()"
   ]
  },
  {
   "cell_type": "markdown",
   "id": "exact-medicine",
   "metadata": {},
   "source": [
    "checking Cruise_line's correlation against Crew size"
   ]
  },
  {
   "cell_type": "code",
   "execution_count": 12,
   "id": "thick-tragedy",
   "metadata": {},
   "outputs": [
    {
     "data": {
      "image/png": "[encoded data removed]",
      "text/plain": [
       "<Figure size 432x288 with 1 Axes>"
      ]
     },
     "metadata": {
      "needs_background": "light"
     },
     "output_type": "display_data"
    }
   ],
   "source": [
    "crew = df['crew']\n",
    "c_line = df['Cruise_line']\n",
    "plt.scatter(crew, c_line)\n",
    "plt.show()"
   ]
  },
  {
   "cell_type": "markdown",
   "id": "naked-graduation",
   "metadata": {},
   "source": [
    "checking Tonnage's correlation against Crew size"
   ]
  },
  {
   "cell_type": "code",
   "execution_count": 13,
   "id": "front-culture",
   "metadata": {},
   "outputs": [
    {
     "data": {
      "image/png": "[encoded data removed]",
      "text/plain": [
       "<Figure size 432x288 with 1 Axes>"
      ]
     },
     "metadata": {
      "needs_background": "light"
     },
     "output_type": "display_data"
    }
   ],
   "source": [
    "crew = df['crew']\n",
    "ton = df['Tonnage']\n",
    "plt.scatter(crew, ton)\n",
    "plt.show()"
   ]
  },
  {
   "cell_type": "markdown",
   "id": "thick-seeking",
   "metadata": {},
   "source": [
    "checking passenger's correlation against Crew size"
   ]
  },
  {
   "cell_type": "code",
   "execution_count": 14,
   "id": "superb-graphics",
   "metadata": {},
   "outputs": [
    {
     "data": {
      "image/png": "[encoded data removed]",
      "text/plain": [
       "<Figure size 432x288 with 1 Axes>"
      ]
     },
     "metadata": {
      "needs_background": "light"
     },
     "output_type": "display_data"
    }
   ],
   "source": [
    "crew = df['crew']\n",
    "psg = df['passengers']\n",
    "plt.scatter(crew, psg)\n",
    "plt.show()"
   ]
  },
  {
   "cell_type": "markdown",
   "id": "pointed-vancouver",
   "metadata": {},
   "source": [
    "checking length's correlation against Crew size"
   ]
  },
  {
   "cell_type": "code",
   "execution_count": 15,
   "id": "august-vessel",
   "metadata": {},
   "outputs": [
    {
     "data": {
      "image/png": "[encoded data removed]",
      "text/plain": [
       "<Figure size 432x288 with 1 Axes>"
      ]
     },
     "metadata": {
      "needs_background": "light"
     },
     "output_type": "display_data"
    }
   ],
   "source": [
    "crew = df['crew']\n",
    "length= df['length']\n",
    "plt.scatter(crew, length)\n",
    "plt.show()"
   ]
  },
  {
   "cell_type": "markdown",
   "id": "continuous-wonder",
   "metadata": {},
   "source": [
    "checking cabin's correlation against Crew size"
   ]
  },
  {
   "cell_type": "code",
   "execution_count": 16,
   "id": "sized-stomach",
   "metadata": {},
   "outputs": [
    {
     "data": {
      "image/png": "[encoded data removed]",
      "text/plain": [
       "<Figure size 432x288 with 1 Axes>"
      ]
     },
     "metadata": {
      "needs_background": "light"
     },
     "output_type": "display_data"
    }
   ],
   "source": [
    "crew = df['crew']\n",
    "cab = df['cabins']\n",
    "plt.scatter(crew, cab)\n",
    "plt.show()"
   ]
  },
  {
   "cell_type": "markdown",
   "id": "developmental-warrant",
   "metadata": {},
   "source": [
    "checking pasenger_density's correlation against Crew size"
   ]
  },
  {
   "cell_type": "code",
   "execution_count": 17,
   "id": "boolean-vehicle",
   "metadata": {},
   "outputs": [
    {
     "data": {
      "image/png": "[encoded data removed]",
      "text/plain": [
       "<Figure size 432x288 with 1 Axes>"
      ]
     },
     "metadata": {
      "needs_background": "light"
     },
     "output_type": "display_data"
    }
   ],
   "source": [
    "crew = df['crew']\n",
    "pas_den = df['passenger_density']\n",
    "plt.scatter(crew, pas_den)\n",
    "plt.show()"
   ]
  },
  {
   "cell_type": "markdown",
   "id": "rapid-cleaner",
   "metadata": {},
   "source": [
    "It is clear and obvious that some features are not in anyway correlated with the size of the Crew, features like Ships_name, Cruise_line, Passenger_density.\n",
    "However, we can not be so sure and we must use some other means of re-affirming our claim by plotting a correlation table among all the variable in the dataset."
   ]
  },
  {
   "cell_type": "code",
   "execution_count": 18,
   "id": "saving-subsection",
   "metadata": {},
   "outputs": [
    {
     "name": "stdout",
     "output_type": "stream",
     "text": [
      "                       crew    cabins    length  passengers   Tonnage  \\\n",
      "crew               1.000000  0.950823  0.895857    0.915234  0.927569   \n",
      "cabins             0.950823  1.000000  0.889798    0.976341  0.948764   \n",
      "length             0.895857  0.889798  1.000000    0.883535  0.922368   \n",
      "passengers         0.915234  0.976341  0.883535    1.000000  0.945061   \n",
      "Tonnage            0.927569  0.948764  0.922368    0.945061  1.000000   \n",
      "Age               -0.530657 -0.510019 -0.532286   -0.515542 -0.606646   \n",
      "passenger_density -0.155509 -0.253181 -0.090488   -0.294867 -0.040846   \n",
      "\n",
      "                        Age  passenger_density  \n",
      "crew              -0.530657          -0.155509  \n",
      "cabins            -0.510019          -0.253181  \n",
      "length            -0.532286          -0.090488  \n",
      "passengers        -0.515542          -0.294867  \n",
      "Tonnage           -0.606646          -0.040846  \n",
      "Age                1.000000          -0.278830  \n",
      "passenger_density -0.278830           1.000000  \n"
     ]
    }
   ],
   "source": [
    "data = pd.DataFrame(df,\n",
    "columns=['crew','cabins','length','passengers','Tonnage','Age','Cruise_line','Ship_name','passenger_density'])\n",
    "corrMatrix = data.corr()\n",
    "print (corrMatrix)"
   ]
  },
  {
   "cell_type": "markdown",
   "id": "generic-character",
   "metadata": {},
   "source": [
    "On showing the table, it is glaring that Age and passenger_density have negative correlation with the Crew size, therefore I decided to remove them, I didnt remove Ship_name and Cruise_line yet because of the OneHotEncoding we are going to perform  on them as they were categorical in nature. Therefore I decided to remove Age and Passenger_density first."
   ]
  },
  {
   "cell_type": "code",
   "execution_count": 19,
   "id": "deadly-implement",
   "metadata": {},
   "outputs": [],
   "source": [
    "df_new = df.drop(['Age','passenger_density'], axis = 1)"
   ]
  },
  {
   "cell_type": "code",
   "execution_count": 20,
   "id": "quarterly-effectiveness",
   "metadata": {},
   "outputs": [
    {
     "data": {
      "text/html": [
       "<div>\n",
       "<style scoped>\n",
       "    .dataframe tbody tr th:only-of-type {\n",
       "        vertical-align: middle;\n",
       "    }\n",
       "\n",
       "    .dataframe tbody tr th {\n",
       "        vertical-align: top;\n",
       "    }\n",
       "\n",
       "    .dataframe thead th {\n",
       "        text-align: right;\n",
       "    }\n",
       "</style>\n",
       "<table border=\"1\" class=\"dataframe\">\n",
       "  <thead>\n",
       "    <tr style=\"text-align: right;\">\n",
       "      <th></th>\n",
       "      <th>Ship_name</th>\n",
       "      <th>Cruise_line</th>\n",
       "      <th>Tonnage</th>\n",
       "      <th>passengers</th>\n",
       "      <th>length</th>\n",
       "      <th>cabins</th>\n",
       "      <th>crew</th>\n",
       "    </tr>\n",
       "  </thead>\n",
       "  <tbody>\n",
       "    <tr>\n",
       "      <th>0</th>\n",
       "      <td>Journey</td>\n",
       "      <td>Azamara</td>\n",
       "      <td>30.277</td>\n",
       "      <td>6.94</td>\n",
       "      <td>5.94</td>\n",
       "      <td>3.55</td>\n",
       "      <td>3.55</td>\n",
       "    </tr>\n",
       "    <tr>\n",
       "      <th>1</th>\n",
       "      <td>Quest</td>\n",
       "      <td>Azamara</td>\n",
       "      <td>30.277</td>\n",
       "      <td>6.94</td>\n",
       "      <td>5.94</td>\n",
       "      <td>3.55</td>\n",
       "      <td>3.55</td>\n",
       "    </tr>\n",
       "    <tr>\n",
       "      <th>2</th>\n",
       "      <td>Celebration</td>\n",
       "      <td>Carnival</td>\n",
       "      <td>47.262</td>\n",
       "      <td>14.86</td>\n",
       "      <td>7.22</td>\n",
       "      <td>7.43</td>\n",
       "      <td>6.70</td>\n",
       "    </tr>\n",
       "    <tr>\n",
       "      <th>3</th>\n",
       "      <td>Conquest</td>\n",
       "      <td>Carnival</td>\n",
       "      <td>110.000</td>\n",
       "      <td>29.74</td>\n",
       "      <td>9.53</td>\n",
       "      <td>14.88</td>\n",
       "      <td>19.10</td>\n",
       "    </tr>\n",
       "    <tr>\n",
       "      <th>4</th>\n",
       "      <td>Destiny</td>\n",
       "      <td>Carnival</td>\n",
       "      <td>101.353</td>\n",
       "      <td>26.42</td>\n",
       "      <td>8.92</td>\n",
       "      <td>13.21</td>\n",
       "      <td>10.00</td>\n",
       "    </tr>\n",
       "    <tr>\n",
       "      <th>...</th>\n",
       "      <td>...</td>\n",
       "      <td>...</td>\n",
       "      <td>...</td>\n",
       "      <td>...</td>\n",
       "      <td>...</td>\n",
       "      <td>...</td>\n",
       "      <td>...</td>\n",
       "    </tr>\n",
       "    <tr>\n",
       "      <th>153</th>\n",
       "      <td>Taurus</td>\n",
       "      <td>Star</td>\n",
       "      <td>3.341</td>\n",
       "      <td>0.66</td>\n",
       "      <td>2.79</td>\n",
       "      <td>0.33</td>\n",
       "      <td>0.59</td>\n",
       "    </tr>\n",
       "    <tr>\n",
       "      <th>154</th>\n",
       "      <td>Virgo</td>\n",
       "      <td>Star</td>\n",
       "      <td>76.800</td>\n",
       "      <td>19.60</td>\n",
       "      <td>8.79</td>\n",
       "      <td>9.67</td>\n",
       "      <td>12.00</td>\n",
       "    </tr>\n",
       "    <tr>\n",
       "      <th>155</th>\n",
       "      <td>Spirit</td>\n",
       "      <td>Windstar</td>\n",
       "      <td>5.350</td>\n",
       "      <td>1.58</td>\n",
       "      <td>4.40</td>\n",
       "      <td>0.74</td>\n",
       "      <td>0.88</td>\n",
       "    </tr>\n",
       "    <tr>\n",
       "      <th>156</th>\n",
       "      <td>Star</td>\n",
       "      <td>Windstar</td>\n",
       "      <td>5.350</td>\n",
       "      <td>1.67</td>\n",
       "      <td>4.40</td>\n",
       "      <td>0.74</td>\n",
       "      <td>0.88</td>\n",
       "    </tr>\n",
       "    <tr>\n",
       "      <th>157</th>\n",
       "      <td>Surf</td>\n",
       "      <td>Windstar</td>\n",
       "      <td>14.745</td>\n",
       "      <td>3.08</td>\n",
       "      <td>6.17</td>\n",
       "      <td>1.56</td>\n",
       "      <td>1.80</td>\n",
       "    </tr>\n",
       "  </tbody>\n",
       "</table>\n",
       "<p>158 rows × 7 columns</p>\n",
       "</div>"
      ],
      "text/plain": [
       "       Ship_name Cruise_line  Tonnage  passengers  length  cabins   crew\n",
       "0        Journey     Azamara   30.277        6.94    5.94    3.55   3.55\n",
       "1          Quest     Azamara   30.277        6.94    5.94    3.55   3.55\n",
       "2    Celebration    Carnival   47.262       14.86    7.22    7.43   6.70\n",
       "3       Conquest    Carnival  110.000       29.74    9.53   14.88  19.10\n",
       "4        Destiny    Carnival  101.353       26.42    8.92   13.21  10.00\n",
       "..           ...         ...      ...         ...     ...     ...    ...\n",
       "153       Taurus        Star    3.341        0.66    2.79    0.33   0.59\n",
       "154        Virgo        Star   76.800       19.60    8.79    9.67  12.00\n",
       "155       Spirit    Windstar    5.350        1.58    4.40    0.74   0.88\n",
       "156         Star    Windstar    5.350        1.67    4.40    0.74   0.88\n",
       "157         Surf    Windstar   14.745        3.08    6.17    1.56   1.80\n",
       "\n",
       "[158 rows x 7 columns]"
      ]
     },
     "execution_count": 20,
     "metadata": {},
     "output_type": "execute_result"
    }
   ],
   "source": [
    "df_new"
   ]
  },
  {
   "cell_type": "markdown",
   "id": "cutting-rwanda",
   "metadata": {},
   "source": [
    "I decided to check the distribution of the features remaining in the dataframe so as to know how to go about their scaling."
   ]
  },
  {
   "cell_type": "code",
   "execution_count": 21,
   "id": "classified-singing",
   "metadata": {},
   "outputs": [
    {
     "name": "stderr",
     "output_type": "stream",
     "text": [
      "/home/wizardcalidad/Desktop/Nano/env/lib/python3.8/site-packages/seaborn/distributions.py:2557: FutureWarning: `distplot` is a deprecated function and will be removed in a future version. Please adapt your code to use either `displot` (a figure-level function with similar flexibility) or `histplot` (an axes-level function for histograms).\n",
      "  warnings.warn(msg, FutureWarning)\n"
     ]
    },
    {
     "data": {
      "image/png": "[encoded data removed]",
      "text/plain": [
       "<Figure size 432x288 with 1 Axes>"
      ]
     },
     "metadata": {
      "needs_background": "light"
     },
     "output_type": "display_data"
    }
   ],
   "source": [
    "sb.distplot(df_new['Tonnage'],bins=20)\n",
    "plt.title('checking distribution')\n",
    "plt.show()"
   ]
  },
  {
   "cell_type": "code",
   "execution_count": 22,
   "id": "breathing-submission",
   "metadata": {},
   "outputs": [
    {
     "name": "stderr",
     "output_type": "stream",
     "text": [
      "/home/wizardcalidad/Desktop/Nano/env/lib/python3.8/site-packages/seaborn/distributions.py:2557: FutureWarning: `distplot` is a deprecated function and will be removed in a future version. Please adapt your code to use either `displot` (a figure-level function with similar flexibility) or `histplot` (an axes-level function for histograms).\n",
      "  warnings.warn(msg, FutureWarning)\n"
     ]
    },
    {
     "data": {
      "image/png": "[encoded data removed]",
      "text/plain": [
       "<Figure size 432x288 with 1 Axes>"
      ]
     },
     "metadata": {
      "needs_background": "light"
     },
     "output_type": "display_data"
    }
   ],
   "source": [
    "sb.distplot(df_new['passengers'],bins=20)\n",
    "plt.title('checking distribution')\n",
    "plt.show()"
   ]
  },
  {
   "cell_type": "code",
   "execution_count": 23,
   "id": "civil-duration",
   "metadata": {},
   "outputs": [
    {
     "name": "stderr",
     "output_type": "stream",
     "text": [
      "/home/wizardcalidad/Desktop/Nano/env/lib/python3.8/site-packages/seaborn/distributions.py:2557: FutureWarning: `distplot` is a deprecated function and will be removed in a future version. Please adapt your code to use either `displot` (a figure-level function with similar flexibility) or `histplot` (an axes-level function for histograms).\n",
      "  warnings.warn(msg, FutureWarning)\n"
     ]
    },
    {
     "data": {
      "image/png": "[encoded data removed]",
      "text/plain": [
       "<Figure size 432x288 with 1 Axes>"
      ]
     },
     "metadata": {
      "needs_background": "light"
     },
     "output_type": "display_data"
    }
   ],
   "source": [
    "sb.distplot(df_new['length'],bins=20)\n",
    "plt.title('checking distribution')\n",
    "plt.show()"
   ]
  },
  {
   "cell_type": "code",
   "execution_count": 24,
   "id": "mexican-stable",
   "metadata": {},
   "outputs": [
    {
     "name": "stderr",
     "output_type": "stream",
     "text": [
      "/home/wizardcalidad/Desktop/Nano/env/lib/python3.8/site-packages/seaborn/distributions.py:2557: FutureWarning: `distplot` is a deprecated function and will be removed in a future version. Please adapt your code to use either `displot` (a figure-level function with similar flexibility) or `histplot` (an axes-level function for histograms).\n",
      "  warnings.warn(msg, FutureWarning)\n"
     ]
    },
    {
     "data": {
      "image/png": "[encoded data removed]",
      "text/plain": [
       "<Figure size 432x288 with 1 Axes>"
      ]
     },
     "metadata": {
      "needs_background": "light"
     },
     "output_type": "display_data"
    }
   ],
   "source": [
    "sb.distplot(df_new['cabins'],bins=20)\n",
    "plt.title('checking distribution')\n",
    "plt.show()"
   ]
  },
  {
   "cell_type": "code",
   "execution_count": 25,
   "id": "published-lover",
   "metadata": {},
   "outputs": [
    {
     "data": {
      "text/plain": [
       "<AxesSubplot:xlabel='cabins', ylabel='Density'>"
      ]
     },
     "execution_count": 25,
     "metadata": {},
     "output_type": "execute_result"
    },
    {
     "data": {
      "image/png": "[encoded data removed]",
      "text/plain": [
       "<Figure size 432x288 with 1 Axes>"
      ]
     },
     "metadata": {
      "needs_background": "light"
     },
     "output_type": "display_data"
    }
   ],
   "source": [
    "sb.kdeplot(df_new['cabins'])\n",
    "sb.kdeplot(df_new['length'])\n",
    "sb.kdeplot(df_new['passengers'])\n",
    "sb.kdeplot(df_new['Tonnage'])"
   ]
  },
  {
   "cell_type": "markdown",
   "id": "outer-burton",
   "metadata": {},
   "source": [
    "I realized the distribution is somehow of high dimension and plotting the features together we can see the outliers and how far apart the dimension is. Therefore, it needed to be scaled, initially i tried out MinMaxScaler and discovered it cant handle outliers efficiently so i had to go for StandardScaler with work with it perfectly."
   ]
  },
  {
   "cell_type": "code",
   "execution_count": 26,
   "id": "stunning-vegetarian",
   "metadata": {},
   "outputs": [
    {
     "data": {
      "text/html": [
       "<div>\n",
       "<style scoped>\n",
       "    .dataframe tbody tr th:only-of-type {\n",
       "        vertical-align: middle;\n",
       "    }\n",
       "\n",
       "    .dataframe tbody tr th {\n",
       "        vertical-align: top;\n",
       "    }\n",
       "\n",
       "    .dataframe thead th {\n",
       "        text-align: right;\n",
       "    }\n",
       "</style>\n",
       "<table border=\"1\" class=\"dataframe\">\n",
       "  <thead>\n",
       "    <tr style=\"text-align: right;\">\n",
       "      <th></th>\n",
       "      <th>Ship_name</th>\n",
       "      <th>Cruise_line</th>\n",
       "      <th>Tonnage</th>\n",
       "      <th>passengers</th>\n",
       "      <th>length</th>\n",
       "      <th>cabins</th>\n",
       "      <th>crew</th>\n",
       "    </tr>\n",
       "  </thead>\n",
       "  <tbody>\n",
       "    <tr>\n",
       "      <th>0</th>\n",
       "      <td>Journey</td>\n",
       "      <td>Azamara</td>\n",
       "      <td>30.277</td>\n",
       "      <td>6.94</td>\n",
       "      <td>5.94</td>\n",
       "      <td>3.55</td>\n",
       "      <td>3.55</td>\n",
       "    </tr>\n",
       "    <tr>\n",
       "      <th>1</th>\n",
       "      <td>Quest</td>\n",
       "      <td>Azamara</td>\n",
       "      <td>30.277</td>\n",
       "      <td>6.94</td>\n",
       "      <td>5.94</td>\n",
       "      <td>3.55</td>\n",
       "      <td>3.55</td>\n",
       "    </tr>\n",
       "    <tr>\n",
       "      <th>2</th>\n",
       "      <td>Celebration</td>\n",
       "      <td>Carnival</td>\n",
       "      <td>47.262</td>\n",
       "      <td>14.86</td>\n",
       "      <td>7.22</td>\n",
       "      <td>7.43</td>\n",
       "      <td>6.70</td>\n",
       "    </tr>\n",
       "    <tr>\n",
       "      <th>3</th>\n",
       "      <td>Conquest</td>\n",
       "      <td>Carnival</td>\n",
       "      <td>110.000</td>\n",
       "      <td>29.74</td>\n",
       "      <td>9.53</td>\n",
       "      <td>14.88</td>\n",
       "      <td>19.10</td>\n",
       "    </tr>\n",
       "    <tr>\n",
       "      <th>4</th>\n",
       "      <td>Destiny</td>\n",
       "      <td>Carnival</td>\n",
       "      <td>101.353</td>\n",
       "      <td>26.42</td>\n",
       "      <td>8.92</td>\n",
       "      <td>13.21</td>\n",
       "      <td>10.00</td>\n",
       "    </tr>\n",
       "  </tbody>\n",
       "</table>\n",
       "</div>"
      ],
      "text/plain": [
       "     Ship_name Cruise_line  Tonnage  passengers  length  cabins   crew\n",
       "0      Journey     Azamara   30.277        6.94    5.94    3.55   3.55\n",
       "1        Quest     Azamara   30.277        6.94    5.94    3.55   3.55\n",
       "2  Celebration    Carnival   47.262       14.86    7.22    7.43   6.70\n",
       "3     Conquest    Carnival  110.000       29.74    9.53   14.88  19.10\n",
       "4      Destiny    Carnival  101.353       26.42    8.92   13.21  10.00"
      ]
     },
     "execution_count": 26,
     "metadata": {},
     "output_type": "execute_result"
    }
   ],
   "source": [
    "df_new.head(5)"
   ]
  },
  {
   "cell_type": "markdown",
   "id": "continued-wrapping",
   "metadata": {},
   "source": [
    "To apply the standardscaler, I have to drop the Categorical variable, i am just following the Zen of python which says:\n",
    "Flat is better than nested and readability counts.\n",
    "\n",
    "So, the covariance_matrix would be plot to further solidify our trust in the features we have decided to use i predicting the crew size."
   ]
  },
  {
   "cell_type": "code",
   "execution_count": 27,
   "id": "moving-burst",
   "metadata": {},
   "outputs": [],
   "source": [
    "df_to_split = df_new.drop(['Ship_name', 'Cruise_line'], axis=1)"
   ]
  },
  {
   "cell_type": "code",
   "execution_count": 28,
   "id": "sought-notice",
   "metadata": {},
   "outputs": [
    {
     "data": {
      "text/html": [
       "<div>\n",
       "<style scoped>\n",
       "    .dataframe tbody tr th:only-of-type {\n",
       "        vertical-align: middle;\n",
       "    }\n",
       "\n",
       "    .dataframe tbody tr th {\n",
       "        vertical-align: top;\n",
       "    }\n",
       "\n",
       "    .dataframe thead th {\n",
       "        text-align: right;\n",
       "    }\n",
       "</style>\n",
       "<table border=\"1\" class=\"dataframe\">\n",
       "  <thead>\n",
       "    <tr style=\"text-align: right;\">\n",
       "      <th></th>\n",
       "      <th>Tonnage</th>\n",
       "      <th>passengers</th>\n",
       "      <th>length</th>\n",
       "      <th>cabins</th>\n",
       "      <th>crew</th>\n",
       "    </tr>\n",
       "  </thead>\n",
       "  <tbody>\n",
       "    <tr>\n",
       "      <th>0</th>\n",
       "      <td>30.277</td>\n",
       "      <td>6.94</td>\n",
       "      <td>5.94</td>\n",
       "      <td>3.55</td>\n",
       "      <td>3.55</td>\n",
       "    </tr>\n",
       "    <tr>\n",
       "      <th>1</th>\n",
       "      <td>30.277</td>\n",
       "      <td>6.94</td>\n",
       "      <td>5.94</td>\n",
       "      <td>3.55</td>\n",
       "      <td>3.55</td>\n",
       "    </tr>\n",
       "    <tr>\n",
       "      <th>2</th>\n",
       "      <td>47.262</td>\n",
       "      <td>14.86</td>\n",
       "      <td>7.22</td>\n",
       "      <td>7.43</td>\n",
       "      <td>6.70</td>\n",
       "    </tr>\n",
       "    <tr>\n",
       "      <th>3</th>\n",
       "      <td>110.000</td>\n",
       "      <td>29.74</td>\n",
       "      <td>9.53</td>\n",
       "      <td>14.88</td>\n",
       "      <td>19.10</td>\n",
       "    </tr>\n",
       "    <tr>\n",
       "      <th>4</th>\n",
       "      <td>101.353</td>\n",
       "      <td>26.42</td>\n",
       "      <td>8.92</td>\n",
       "      <td>13.21</td>\n",
       "      <td>10.00</td>\n",
       "    </tr>\n",
       "  </tbody>\n",
       "</table>\n",
       "</div>"
      ],
      "text/plain": [
       "   Tonnage  passengers  length  cabins   crew\n",
       "0   30.277        6.94    5.94    3.55   3.55\n",
       "1   30.277        6.94    5.94    3.55   3.55\n",
       "2   47.262       14.86    7.22    7.43   6.70\n",
       "3  110.000       29.74    9.53   14.88  19.10\n",
       "4  101.353       26.42    8.92   13.21  10.00"
      ]
     },
     "execution_count": 28,
     "metadata": {},
     "output_type": "execute_result"
    }
   ],
   "source": [
    "df_to_split.head()"
   ]
  },
  {
   "cell_type": "code",
   "execution_count": 29,
   "id": "centered-bracket",
   "metadata": {},
   "outputs": [],
   "source": [
    "sc = StandardScaler()\n",
    "scaled = sc.fit_transform(df_to_split.iloc[:,range(0,5)].values)\n",
    "cvr_matrix = np.cov(scaled.T)"
   ]
  },
  {
   "cell_type": "code",
   "execution_count": 30,
   "id": "smaller-anaheim",
   "metadata": {},
   "outputs": [
    {
     "data": {
      "image/png": "[encoded data removed]",
      "text/plain": [
       "<Figure size 720x720 with 2 Axes>"
      ]
     },
     "metadata": {
      "needs_background": "light"
     },
     "output_type": "display_data"
    }
   ],
   "source": [
    "plt.figure(figsize=(10,10))\n",
    "sb.set(font_scale=1.5)\n",
    "hm = sb.heatmap(cvr_matrix,\n",
    "                 cbar=True, annot=True, square=True, fmt='.2f', annot_kws={'size': 12},\n",
    "                 yticklabels=df_to_split.columns,\n",
    "                 xticklabels=df_to_split.columns)\n",
    "plt.title('Visualizing correlation coefficients with covariance matrix')\n",
    "plt.tight_layout()\n",
    "plt.show()"
   ]
  },
  {
   "cell_type": "code",
   "execution_count": 31,
   "id": "fitting-accreditation",
   "metadata": {},
   "outputs": [
    {
     "data": {
      "text/html": [
       "<div>\n",
       "<style scoped>\n",
       "    .dataframe tbody tr th:only-of-type {\n",
       "        vertical-align: middle;\n",
       "    }\n",
       "\n",
       "    .dataframe tbody tr th {\n",
       "        vertical-align: top;\n",
       "    }\n",
       "\n",
       "    .dataframe thead th {\n",
       "        text-align: right;\n",
       "    }\n",
       "</style>\n",
       "<table border=\"1\" class=\"dataframe\">\n",
       "  <thead>\n",
       "    <tr style=\"text-align: right;\">\n",
       "      <th></th>\n",
       "      <th>Tonnage</th>\n",
       "      <th>passengers</th>\n",
       "      <th>length</th>\n",
       "      <th>cabins</th>\n",
       "      <th>crew</th>\n",
       "    </tr>\n",
       "  </thead>\n",
       "  <tbody>\n",
       "    <tr>\n",
       "      <th>Tonnage</th>\n",
       "      <td>1.000000</td>\n",
       "      <td>0.945061</td>\n",
       "      <td>0.922368</td>\n",
       "      <td>0.948764</td>\n",
       "      <td>0.927569</td>\n",
       "    </tr>\n",
       "    <tr>\n",
       "      <th>passengers</th>\n",
       "      <td>0.945061</td>\n",
       "      <td>1.000000</td>\n",
       "      <td>0.883535</td>\n",
       "      <td>0.976341</td>\n",
       "      <td>0.915234</td>\n",
       "    </tr>\n",
       "    <tr>\n",
       "      <th>length</th>\n",
       "      <td>0.922368</td>\n",
       "      <td>0.883535</td>\n",
       "      <td>1.000000</td>\n",
       "      <td>0.889798</td>\n",
       "      <td>0.895857</td>\n",
       "    </tr>\n",
       "    <tr>\n",
       "      <th>cabins</th>\n",
       "      <td>0.948764</td>\n",
       "      <td>0.976341</td>\n",
       "      <td>0.889798</td>\n",
       "      <td>1.000000</td>\n",
       "      <td>0.950823</td>\n",
       "    </tr>\n",
       "    <tr>\n",
       "      <th>crew</th>\n",
       "      <td>0.927569</td>\n",
       "      <td>0.915234</td>\n",
       "      <td>0.895857</td>\n",
       "      <td>0.950823</td>\n",
       "      <td>1.000000</td>\n",
       "    </tr>\n",
       "  </tbody>\n",
       "</table>\n",
       "</div>"
      ],
      "text/plain": [
       "             Tonnage  passengers    length    cabins      crew\n",
       "Tonnage     1.000000    0.945061  0.922368  0.948764  0.927569\n",
       "passengers  0.945061    1.000000  0.883535  0.976341  0.915234\n",
       "length      0.922368    0.883535  1.000000  0.889798  0.895857\n",
       "cabins      0.948764    0.976341  0.889798  1.000000  0.950823\n",
       "crew        0.927569    0.915234  0.895857  0.950823  1.000000"
      ]
     },
     "execution_count": 31,
     "metadata": {},
     "output_type": "execute_result"
    }
   ],
   "source": [
    "df_to_split.corr()"
   ]
  },
  {
   "cell_type": "markdown",
   "id": "jewish-quantity",
   "metadata": {},
   "source": [
    "# 4. Use OneHotEncoding for the Categorical features which are the Ship_name abd Cruise_line"
   ]
  },
  {
   "cell_type": "code",
   "execution_count": 35,
   "id": "democratic-completion",
   "metadata": {},
   "outputs": [
    {
     "data": {
      "text/html": [
       "<div>\n",
       "<style scoped>\n",
       "    .dataframe tbody tr th:only-of-type {\n",
       "        vertical-align: middle;\n",
       "    }\n",
       "\n",
       "    .dataframe tbody tr th {\n",
       "        vertical-align: top;\n",
       "    }\n",
       "\n",
       "    .dataframe thead th {\n",
       "        text-align: right;\n",
       "    }\n",
       "</style>\n",
       "<table border=\"1\" class=\"dataframe\">\n",
       "  <thead>\n",
       "    <tr style=\"text-align: right;\">\n",
       "      <th></th>\n",
       "      <th>Ship_name</th>\n",
       "      <th>Cruise_line</th>\n",
       "      <th>Tonnage</th>\n",
       "      <th>passengers</th>\n",
       "      <th>length</th>\n",
       "      <th>cabins</th>\n",
       "      <th>crew</th>\n",
       "    </tr>\n",
       "  </thead>\n",
       "  <tbody>\n",
       "    <tr>\n",
       "      <th>0</th>\n",
       "      <td>Journey</td>\n",
       "      <td>Azamara</td>\n",
       "      <td>30.277</td>\n",
       "      <td>6.94</td>\n",
       "      <td>5.94</td>\n",
       "      <td>3.55</td>\n",
       "      <td>3.55</td>\n",
       "    </tr>\n",
       "    <tr>\n",
       "      <th>1</th>\n",
       "      <td>Quest</td>\n",
       "      <td>Azamara</td>\n",
       "      <td>30.277</td>\n",
       "      <td>6.94</td>\n",
       "      <td>5.94</td>\n",
       "      <td>3.55</td>\n",
       "      <td>3.55</td>\n",
       "    </tr>\n",
       "    <tr>\n",
       "      <th>2</th>\n",
       "      <td>Celebration</td>\n",
       "      <td>Carnival</td>\n",
       "      <td>47.262</td>\n",
       "      <td>14.86</td>\n",
       "      <td>7.22</td>\n",
       "      <td>7.43</td>\n",
       "      <td>6.70</td>\n",
       "    </tr>\n",
       "    <tr>\n",
       "      <th>3</th>\n",
       "      <td>Conquest</td>\n",
       "      <td>Carnival</td>\n",
       "      <td>110.000</td>\n",
       "      <td>29.74</td>\n",
       "      <td>9.53</td>\n",
       "      <td>14.88</td>\n",
       "      <td>19.10</td>\n",
       "    </tr>\n",
       "    <tr>\n",
       "      <th>4</th>\n",
       "      <td>Destiny</td>\n",
       "      <td>Carnival</td>\n",
       "      <td>101.353</td>\n",
       "      <td>26.42</td>\n",
       "      <td>8.92</td>\n",
       "      <td>13.21</td>\n",
       "      <td>10.00</td>\n",
       "    </tr>\n",
       "  </tbody>\n",
       "</table>\n",
       "</div>"
      ],
      "text/plain": [
       "     Ship_name Cruise_line  Tonnage  passengers  length  cabins   crew\n",
       "0      Journey     Azamara   30.277        6.94    5.94    3.55   3.55\n",
       "1        Quest     Azamara   30.277        6.94    5.94    3.55   3.55\n",
       "2  Celebration    Carnival   47.262       14.86    7.22    7.43   6.70\n",
       "3     Conquest    Carnival  110.000       29.74    9.53   14.88  19.10\n",
       "4      Destiny    Carnival  101.353       26.42    8.92   13.21  10.00"
      ]
     },
     "execution_count": 35,
     "metadata": {},
     "output_type": "execute_result"
    }
   ],
   "source": [
    "df_new.head()"
   ]
  },
  {
   "cell_type": "code",
   "execution_count": 112,
   "id": "stable-millennium",
   "metadata": {},
   "outputs": [
    {
     "data": {
      "text/html": [
       "<div>\n",
       "<style scoped>\n",
       "    .dataframe tbody tr th:only-of-type {\n",
       "        vertical-align: middle;\n",
       "    }\n",
       "\n",
       "    .dataframe tbody tr th {\n",
       "        vertical-align: top;\n",
       "    }\n",
       "\n",
       "    .dataframe thead th {\n",
       "        text-align: right;\n",
       "    }\n",
       "</style>\n",
       "<table border=\"1\" class=\"dataframe\">\n",
       "  <thead>\n",
       "    <tr style=\"text-align: right;\">\n",
       "      <th></th>\n",
       "      <th>Tonnage</th>\n",
       "      <th>passengers</th>\n",
       "      <th>length</th>\n",
       "      <th>cabins</th>\n",
       "      <th>Ship_name_Adventure</th>\n",
       "      <th>Ship_name_Allegra</th>\n",
       "      <th>Ship_name_Amsterdam</th>\n",
       "      <th>Ship_name_Arcadia</th>\n",
       "      <th>Ship_name_Aries</th>\n",
       "      <th>Ship_name_Armonia</th>\n",
       "      <th>...</th>\n",
       "      <th>Cruise_line_Oceania</th>\n",
       "      <th>Cruise_line_Orient</th>\n",
       "      <th>Cruise_line_P&amp;O</th>\n",
       "      <th>Cruise_line_Princess</th>\n",
       "      <th>Cruise_line_Regent_Seven_Seas</th>\n",
       "      <th>Cruise_line_Royal_Caribbean</th>\n",
       "      <th>Cruise_line_Seabourn</th>\n",
       "      <th>Cruise_line_Silversea</th>\n",
       "      <th>Cruise_line_Star</th>\n",
       "      <th>Cruise_line_Windstar</th>\n",
       "    </tr>\n",
       "  </thead>\n",
       "  <tbody>\n",
       "    <tr>\n",
       "      <th>0</th>\n",
       "      <td>30.277</td>\n",
       "      <td>6.94</td>\n",
       "      <td>5.94</td>\n",
       "      <td>3.55</td>\n",
       "      <td>0</td>\n",
       "      <td>0</td>\n",
       "      <td>0</td>\n",
       "      <td>0</td>\n",
       "      <td>0</td>\n",
       "      <td>0</td>\n",
       "      <td>...</td>\n",
       "      <td>0</td>\n",
       "      <td>0</td>\n",
       "      <td>0</td>\n",
       "      <td>0</td>\n",
       "      <td>0</td>\n",
       "      <td>0</td>\n",
       "      <td>0</td>\n",
       "      <td>0</td>\n",
       "      <td>0</td>\n",
       "      <td>0</td>\n",
       "    </tr>\n",
       "    <tr>\n",
       "      <th>1</th>\n",
       "      <td>30.277</td>\n",
       "      <td>6.94</td>\n",
       "      <td>5.94</td>\n",
       "      <td>3.55</td>\n",
       "      <td>0</td>\n",
       "      <td>0</td>\n",
       "      <td>0</td>\n",
       "      <td>0</td>\n",
       "      <td>0</td>\n",
       "      <td>0</td>\n",
       "      <td>...</td>\n",
       "      <td>0</td>\n",
       "      <td>0</td>\n",
       "      <td>0</td>\n",
       "      <td>0</td>\n",
       "      <td>0</td>\n",
       "      <td>0</td>\n",
       "      <td>0</td>\n",
       "      <td>0</td>\n",
       "      <td>0</td>\n",
       "      <td>0</td>\n",
       "    </tr>\n",
       "    <tr>\n",
       "      <th>2</th>\n",
       "      <td>47.262</td>\n",
       "      <td>14.86</td>\n",
       "      <td>7.22</td>\n",
       "      <td>7.43</td>\n",
       "      <td>0</td>\n",
       "      <td>0</td>\n",
       "      <td>0</td>\n",
       "      <td>0</td>\n",
       "      <td>0</td>\n",
       "      <td>0</td>\n",
       "      <td>...</td>\n",
       "      <td>0</td>\n",
       "      <td>0</td>\n",
       "      <td>0</td>\n",
       "      <td>0</td>\n",
       "      <td>0</td>\n",
       "      <td>0</td>\n",
       "      <td>0</td>\n",
       "      <td>0</td>\n",
       "      <td>0</td>\n",
       "      <td>0</td>\n",
       "    </tr>\n",
       "    <tr>\n",
       "      <th>3</th>\n",
       "      <td>110.000</td>\n",
       "      <td>29.74</td>\n",
       "      <td>9.53</td>\n",
       "      <td>14.88</td>\n",
       "      <td>0</td>\n",
       "      <td>0</td>\n",
       "      <td>0</td>\n",
       "      <td>0</td>\n",
       "      <td>0</td>\n",
       "      <td>0</td>\n",
       "      <td>...</td>\n",
       "      <td>0</td>\n",
       "      <td>0</td>\n",
       "      <td>0</td>\n",
       "      <td>0</td>\n",
       "      <td>0</td>\n",
       "      <td>0</td>\n",
       "      <td>0</td>\n",
       "      <td>0</td>\n",
       "      <td>0</td>\n",
       "      <td>0</td>\n",
       "    </tr>\n",
       "    <tr>\n",
       "      <th>4</th>\n",
       "      <td>101.353</td>\n",
       "      <td>26.42</td>\n",
       "      <td>8.92</td>\n",
       "      <td>13.21</td>\n",
       "      <td>0</td>\n",
       "      <td>0</td>\n",
       "      <td>0</td>\n",
       "      <td>0</td>\n",
       "      <td>0</td>\n",
       "      <td>0</td>\n",
       "      <td>...</td>\n",
       "      <td>0</td>\n",
       "      <td>0</td>\n",
       "      <td>0</td>\n",
       "      <td>0</td>\n",
       "      <td>0</td>\n",
       "      <td>0</td>\n",
       "      <td>0</td>\n",
       "      <td>0</td>\n",
       "      <td>0</td>\n",
       "      <td>0</td>\n",
       "    </tr>\n",
       "    <tr>\n",
       "      <th>...</th>\n",
       "      <td>...</td>\n",
       "      <td>...</td>\n",
       "      <td>...</td>\n",
       "      <td>...</td>\n",
       "      <td>...</td>\n",
       "      <td>...</td>\n",
       "      <td>...</td>\n",
       "      <td>...</td>\n",
       "      <td>...</td>\n",
       "      <td>...</td>\n",
       "      <td>...</td>\n",
       "      <td>...</td>\n",
       "      <td>...</td>\n",
       "      <td>...</td>\n",
       "      <td>...</td>\n",
       "      <td>...</td>\n",
       "      <td>...</td>\n",
       "      <td>...</td>\n",
       "      <td>...</td>\n",
       "      <td>...</td>\n",
       "      <td>...</td>\n",
       "    </tr>\n",
       "    <tr>\n",
       "      <th>153</th>\n",
       "      <td>3.341</td>\n",
       "      <td>0.66</td>\n",
       "      <td>2.79</td>\n",
       "      <td>0.33</td>\n",
       "      <td>0</td>\n",
       "      <td>0</td>\n",
       "      <td>0</td>\n",
       "      <td>0</td>\n",
       "      <td>0</td>\n",
       "      <td>0</td>\n",
       "      <td>...</td>\n",
       "      <td>0</td>\n",
       "      <td>0</td>\n",
       "      <td>0</td>\n",
       "      <td>0</td>\n",
       "      <td>0</td>\n",
       "      <td>0</td>\n",
       "      <td>0</td>\n",
       "      <td>0</td>\n",
       "      <td>1</td>\n",
       "      <td>0</td>\n",
       "    </tr>\n",
       "    <tr>\n",
       "      <th>154</th>\n",
       "      <td>76.800</td>\n",
       "      <td>19.60</td>\n",
       "      <td>8.79</td>\n",
       "      <td>9.67</td>\n",
       "      <td>0</td>\n",
       "      <td>0</td>\n",
       "      <td>0</td>\n",
       "      <td>0</td>\n",
       "      <td>0</td>\n",
       "      <td>0</td>\n",
       "      <td>...</td>\n",
       "      <td>0</td>\n",
       "      <td>0</td>\n",
       "      <td>0</td>\n",
       "      <td>0</td>\n",
       "      <td>0</td>\n",
       "      <td>0</td>\n",
       "      <td>0</td>\n",
       "      <td>0</td>\n",
       "      <td>1</td>\n",
       "      <td>0</td>\n",
       "    </tr>\n",
       "    <tr>\n",
       "      <th>155</th>\n",
       "      <td>5.350</td>\n",
       "      <td>1.58</td>\n",
       "      <td>4.40</td>\n",
       "      <td>0.74</td>\n",
       "      <td>0</td>\n",
       "      <td>0</td>\n",
       "      <td>0</td>\n",
       "      <td>0</td>\n",
       "      <td>0</td>\n",
       "      <td>0</td>\n",
       "      <td>...</td>\n",
       "      <td>0</td>\n",
       "      <td>0</td>\n",
       "      <td>0</td>\n",
       "      <td>0</td>\n",
       "      <td>0</td>\n",
       "      <td>0</td>\n",
       "      <td>0</td>\n",
       "      <td>0</td>\n",
       "      <td>0</td>\n",
       "      <td>1</td>\n",
       "    </tr>\n",
       "    <tr>\n",
       "      <th>156</th>\n",
       "      <td>5.350</td>\n",
       "      <td>1.67</td>\n",
       "      <td>4.40</td>\n",
       "      <td>0.74</td>\n",
       "      <td>0</td>\n",
       "      <td>0</td>\n",
       "      <td>0</td>\n",
       "      <td>0</td>\n",
       "      <td>0</td>\n",
       "      <td>0</td>\n",
       "      <td>...</td>\n",
       "      <td>0</td>\n",
       "      <td>0</td>\n",
       "      <td>0</td>\n",
       "      <td>0</td>\n",
       "      <td>0</td>\n",
       "      <td>0</td>\n",
       "      <td>0</td>\n",
       "      <td>0</td>\n",
       "      <td>0</td>\n",
       "      <td>1</td>\n",
       "    </tr>\n",
       "    <tr>\n",
       "      <th>157</th>\n",
       "      <td>14.745</td>\n",
       "      <td>3.08</td>\n",
       "      <td>6.17</td>\n",
       "      <td>1.56</td>\n",
       "      <td>0</td>\n",
       "      <td>0</td>\n",
       "      <td>0</td>\n",
       "      <td>0</td>\n",
       "      <td>0</td>\n",
       "      <td>0</td>\n",
       "      <td>...</td>\n",
       "      <td>0</td>\n",
       "      <td>0</td>\n",
       "      <td>0</td>\n",
       "      <td>0</td>\n",
       "      <td>0</td>\n",
       "      <td>0</td>\n",
       "      <td>0</td>\n",
       "      <td>0</td>\n",
       "      <td>0</td>\n",
       "      <td>1</td>\n",
       "    </tr>\n",
       "  </tbody>\n",
       "</table>\n",
       "<p>158 rows × 162 columns</p>\n",
       "</div>"
      ],
      "text/plain": [
       "     Tonnage  passengers  length  cabins  Ship_name_Adventure  \\\n",
       "0     30.277        6.94    5.94    3.55                    0   \n",
       "1     30.277        6.94    5.94    3.55                    0   \n",
       "2     47.262       14.86    7.22    7.43                    0   \n",
       "3    110.000       29.74    9.53   14.88                    0   \n",
       "4    101.353       26.42    8.92   13.21                    0   \n",
       "..       ...         ...     ...     ...                  ...   \n",
       "153    3.341        0.66    2.79    0.33                    0   \n",
       "154   76.800       19.60    8.79    9.67                    0   \n",
       "155    5.350        1.58    4.40    0.74                    0   \n",
       "156    5.350        1.67    4.40    0.74                    0   \n",
       "157   14.745        3.08    6.17    1.56                    0   \n",
       "\n",
       "     Ship_name_Allegra  Ship_name_Amsterdam  Ship_name_Arcadia  \\\n",
       "0                    0                    0                  0   \n",
       "1                    0                    0                  0   \n",
       "2                    0                    0                  0   \n",
       "3                    0                    0                  0   \n",
       "4                    0                    0                  0   \n",
       "..                 ...                  ...                ...   \n",
       "153                  0                    0                  0   \n",
       "154                  0                    0                  0   \n",
       "155                  0                    0                  0   \n",
       "156                  0                    0                  0   \n",
       "157                  0                    0                  0   \n",
       "\n",
       "     Ship_name_Aries  Ship_name_Armonia  ...  Cruise_line_Oceania  \\\n",
       "0                  0                  0  ...                    0   \n",
       "1                  0                  0  ...                    0   \n",
       "2                  0                  0  ...                    0   \n",
       "3                  0                  0  ...                    0   \n",
       "4                  0                  0  ...                    0   \n",
       "..               ...                ...  ...                  ...   \n",
       "153                0                  0  ...                    0   \n",
       "154                0                  0  ...                    0   \n",
       "155                0                  0  ...                    0   \n",
       "156                0                  0  ...                    0   \n",
       "157                0                  0  ...                    0   \n",
       "\n",
       "     Cruise_line_Orient  Cruise_line_P&O  Cruise_line_Princess  \\\n",
       "0                     0                0                     0   \n",
       "1                     0                0                     0   \n",
       "2                     0                0                     0   \n",
       "3                     0                0                     0   \n",
       "4                     0                0                     0   \n",
       "..                  ...              ...                   ...   \n",
       "153                   0                0                     0   \n",
       "154                   0                0                     0   \n",
       "155                   0                0                     0   \n",
       "156                   0                0                     0   \n",
       "157                   0                0                     0   \n",
       "\n",
       "     Cruise_line_Regent_Seven_Seas  Cruise_line_Royal_Caribbean  \\\n",
       "0                                0                            0   \n",
       "1                                0                            0   \n",
       "2                                0                            0   \n",
       "3                                0                            0   \n",
       "4                                0                            0   \n",
       "..                             ...                          ...   \n",
       "153                              0                            0   \n",
       "154                              0                            0   \n",
       "155                              0                            0   \n",
       "156                              0                            0   \n",
       "157                              0                            0   \n",
       "\n",
       "     Cruise_line_Seabourn  Cruise_line_Silversea  Cruise_line_Star  \\\n",
       "0                       0                      0                 0   \n",
       "1                       0                      0                 0   \n",
       "2                       0                      0                 0   \n",
       "3                       0                      0                 0   \n",
       "4                       0                      0                 0   \n",
       "..                    ...                    ...               ...   \n",
       "153                     0                      0                 1   \n",
       "154                     0                      0                 1   \n",
       "155                     0                      0                 0   \n",
       "156                     0                      0                 0   \n",
       "157                     0                      0                 0   \n",
       "\n",
       "     Cruise_line_Windstar  \n",
       "0                       0  \n",
       "1                       0  \n",
       "2                       0  \n",
       "3                       0  \n",
       "4                       0  \n",
       "..                    ...  \n",
       "153                     0  \n",
       "154                     0  \n",
       "155                     1  \n",
       "156                     1  \n",
       "157                     1  \n",
       "\n",
       "[158 rows x 162 columns]"
      ]
     },
     "execution_count": 112,
     "metadata": {},
     "output_type": "execute_result"
    }
   ],
   "source": [
    "encoder = OneHotEncoder(sparse=False)\n",
    "onehot = encoder.fit_transform(data)\n",
    "df_hot = pd.get_dummies(df_new[['Ship_name', 'Cruise_line', 'Tonnage', 'passengers', 'length', 'cabins']])\n",
    "\n",
    "df_hot"
   ]
  },
  {
   "cell_type": "code",
   "execution_count": 139,
   "id": "listed-intensity",
   "metadata": {},
   "outputs": [],
   "source": [
    "X = df_to_split.iloc[:,0:4].values\n",
    "# X = df_hot.values\n",
    "y = df_to_split['crew']. values"
   ]
  },
  {
   "cell_type": "code",
   "execution_count": 140,
   "id": "superb-education",
   "metadata": {},
   "outputs": [
    {
     "data": {
      "text/plain": [
       "(158, 4)"
      ]
     },
     "execution_count": 140,
     "metadata": {},
     "output_type": "execute_result"
    }
   ],
   "source": [
    "X.shape"
   ]
  },
  {
   "cell_type": "code",
   "execution_count": 141,
   "id": "cultural-dependence",
   "metadata": {},
   "outputs": [
    {
     "data": {
      "text/plain": [
       "(158,)"
      ]
     },
     "execution_count": 141,
     "metadata": {},
     "output_type": "execute_result"
    }
   ],
   "source": [
    "y.shape"
   ]
  },
  {
   "cell_type": "markdown",
   "id": "romance-mirror",
   "metadata": {},
   "source": [
    "# 5. Create training and testing sets."
   ]
  },
  {
   "cell_type": "markdown",
   "id": "specific-senegal",
   "metadata": {},
   "source": [
    "I try to append classifier to preprocessing pipeline following the instruction ofnusing 60% of the data for training and 40% for test strictly, using train_test_split for the splitting operation."
   ]
  },
  {
   "cell_type": "code",
   "execution_count": 142,
   "id": "interested-terrain",
   "metadata": {},
   "outputs": [],
   "source": [
    "clf = Pipeline(steps=[('scaler', StandardScaler()),\n",
    "                      ('classifier', LinearRegression())])\n",
    "\n",
    "X_train, X_test, y_train, y_test = train_test_split(X, y, test_size=0.4,\n",
    "                                                    random_state=0)"
   ]
  },
  {
   "cell_type": "markdown",
   "id": "educated-glenn",
   "metadata": {},
   "source": [
    "# 6. Build a machine learning model to predict the crew size"
   ]
  },
  {
   "cell_type": "code",
   "execution_count": 143,
   "id": "assured-submission",
   "metadata": {},
   "outputs": [
    {
     "name": "stdout",
     "output_type": "stream",
     "text": [
      "model score: 0.928\n"
     ]
    }
   ],
   "source": [
    "clf.fit(X_train, y_train)\n",
    "print(\"model score: %.3f\" % clf.score(X_test, y_test))"
   ]
  },
  {
   "cell_type": "code",
   "execution_count": 144,
   "id": "alert-puppy",
   "metadata": {},
   "outputs": [],
   "source": [
    "y_pred_train = clf.predict(X_train)\n",
    "y_pred_test = clf.predict(X_test)"
   ]
  },
  {
   "cell_type": "markdown",
   "id": "vertical-pressure",
   "metadata": {},
   "source": [
    "Evaluation metrics are ways of knowing how well our model has performed. \n",
    "Mean Square Eror: It is the absolute measure of the goodness for the fit. It determines the quality of the predictor.\n",
    "r2_score:It is used to determine how well the model fits the dependent variables.\n",
    "\n",
    "The model score is about the accuracy of our model, how well has it been predicting."
   ]
  },
  {
   "cell_type": "code",
   "execution_count": 145,
   "id": "pretty-cricket",
   "metadata": {},
   "outputs": [
    {
     "name": "stdout",
     "output_type": "stream",
     "text": [
      "The mean square error for train and test dataset are train: 0.95, test: 0.89\n",
      "Rsquared value for both train and test dataset are train: 0.92, test: 0.93\n"
     ]
    }
   ],
   "source": [
    "print('The mean square error for train and test dataset are train: %.2f, test: %.2f' % (\n",
    "        mean_squared_error(y_train, y_pred_train),\n",
    "        mean_squared_error(y_test, y_pred_test)))\n",
    "print('Rsquared value for both train and test dataset are train: %.2f, test: %.2f' % (\n",
    "        r2_score(y_train, y_pred_train),\n",
    "        r2_score(y_test, y_pred_test)))"
   ]
  },
  {
   "cell_type": "markdown",
   "id": "shaped-smoke",
   "metadata": {},
   "source": [
    "## We can deduce from the result of our model that the model is performing good given that the percentage of predicting the test dataset (crew size) is high at 96.00%, and low mean_square_error rate ar 43.00%"
   ]
  },
  {
   "cell_type": "markdown",
   "id": "supported-editing",
   "metadata": {},
   "source": [
    "#### Visualizing how close the train and test are when it comes to prediction."
   ]
  },
  {
   "cell_type": "code",
   "execution_count": 146,
   "id": "applicable-quebec",
   "metadata": {},
   "outputs": [
    {
     "data": {
      "image/png": "[encoded data removed]",
      "text/plain": [
       "<Figure size 432x288 with 1 Axes>"
      ]
     },
     "metadata": {},
     "output_type": "display_data"
    }
   ],
   "source": [
    "vis_sort = y_train.argsort()\n",
    "plt.plot(np.arange(y_train.shape[0]), y_train[vis_sort])\n",
    "plt.plot(np.arange(y_train.shape[0]), y_pred_train[vis_sort])\n",
    "plt.show()"
   ]
  },
  {
   "cell_type": "code",
   "execution_count": 147,
   "id": "fitted-converter",
   "metadata": {},
   "outputs": [
    {
     "data": {
      "image/png": "[encoded data removed]",
      "text/plain": [
       "<Figure size 432x288 with 1 Axes>"
      ]
     },
     "metadata": {},
     "output_type": "display_data"
    }
   ],
   "source": [
    "vis_sort = y_test.argsort()\n",
    "plt.plot(np.arange(y_test.shape[0]), y_test[vis_sort])\n",
    "plt.plot(np.arange(y_test.shape[0]), y_pred_test[vis_sort])\n",
    "plt.show()"
   ]
  },
  {
   "cell_type": "code",
   "execution_count": 148,
   "id": "british-commercial",
   "metadata": {},
   "outputs": [
    {
     "data": {
      "text/plain": [
       "array([0.59, 0.88, 1.6 , 1.6 , 2.1 , 2.87, 3.5 , 3.73, 3.85, 5.2 ])"
      ]
     },
     "execution_count": 148,
     "metadata": {},
     "output_type": "execute_result"
    }
   ],
   "source": [
    "y_test[vis_sort][:10]"
   ]
  },
  {
   "cell_type": "code",
   "execution_count": 149,
   "id": "horizontal-conflict",
   "metadata": {},
   "outputs": [
    {
     "data": {
      "text/plain": [
       "array([0.52871918, 1.35317326, 1.59948484, 1.59948484, 2.21864498,\n",
       "       2.90805404, 3.91636064, 3.70748313, 3.91088736, 5.30599082])"
      ]
     },
     "execution_count": 149,
     "metadata": {},
     "output_type": "execute_result"
    }
   ],
   "source": [
    "y_pred_test[vis_sort][:10]"
   ]
  },
  {
   "cell_type": "markdown",
   "id": "enclosed-quantity",
   "metadata": {},
   "source": [
    "# 7. Pearson correlation coefficient"
   ]
  },
  {
   "cell_type": "markdown",
   "id": "prime-feeding",
   "metadata": {},
   "source": [
    "The Pearson correlation coefficient can be used to summarize the strength of the linear relationship between two data samples.\n",
    "\n",
    "The Pearson’s correlation coefficient is calculated as the covariance of the two variables divided by the product of the standard deviation of each data sample. It is the normalization of the covariance between the two variables to give an interpretable score."
   ]
  },
  {
   "cell_type": "code",
   "execution_count": 150,
   "id": "spatial-latin",
   "metadata": {},
   "outputs": [
    {
     "name": "stdout",
     "output_type": "stream",
     "text": [
      "[[1.         0.99105613 0.99026488 ... 0.99323205 0.99425373 0.99105613]\n",
      " [0.99105613 1.         0.99998283 ... 0.99964854 0.99258357 1.        ]\n",
      " [0.99026488 0.99998283 1.         ... 0.99953703 0.99218457 0.99998283]\n",
      " ...\n",
      " [0.99323205 0.99964854 0.99953703 ... 1.         0.99544533 0.99964854]\n",
      " [0.99425373 0.99258357 0.99218457 ... 0.99544533 1.         0.99258357]\n",
      " [0.99105613 1.         0.99998283 ... 0.99964854 0.99258357 1.        ]]\n"
     ]
    }
   ],
   "source": [
    "pcc = np.corrcoef(X_train, X_test)\n",
    "print(pcc)"
   ]
  },
  {
   "cell_type": "markdown",
   "id": "acting-white",
   "metadata": {},
   "source": [
    "# Hyperparameter Tuning to Improve Performance of The Model"
   ]
  },
  {
   "cell_type": "code",
   "execution_count": 151,
   "id": "grave-insurance",
   "metadata": {},
   "outputs": [
    {
     "name": "stdout",
     "output_type": "stream",
     "text": [
      "model score: 0.921\n",
      "The mean square error for train and test dataset are train: 0.99, test: 0.85\n",
      "Rsquared value for both train and test dataset are train: 0.92, test: 0.92\n",
      "model score: 0.947\n",
      "The mean square error for train and test dataset are train: 1.25, test: 0.51\n",
      "Rsquared value for both train and test dataset are train: 0.91, test: 0.95\n",
      "model score: 0.891\n",
      "The mean square error for train and test dataset are train: 0.46, test: 1.66\n",
      "Rsquared value for both train and test dataset are train: 0.95, test: 0.89\n",
      "model score: 0.898\n",
      "The mean square error for train and test dataset are train: 0.64, test: 1.37\n",
      "Rsquared value for both train and test dataset are train: 0.94, test: 0.90\n",
      "model score: 0.912\n",
      "The mean square error for train and test dataset are train: 0.74, test: 1.22\n",
      "Rsquared value for both train and test dataset are train: 0.93, test: 0.91\n",
      "model score: 0.920\n",
      "The mean square error for train and test dataset are train: 0.73, test: 1.28\n",
      "Rsquared value for both train and test dataset are train: 0.92, test: 0.92\n",
      "model score: 0.939\n",
      "The mean square error for train and test dataset are train: 1.22, test: 0.65\n",
      "Rsquared value for both train and test dataset are train: 0.91, test: 0.94\n",
      "model score: 0.937\n",
      "The mean square error for train and test dataset are train: 1.09, test: 0.82\n",
      "Rsquared value for both train and test dataset are train: 0.90, test: 0.94\n",
      "model score: 0.940\n",
      "The mean square error for train and test dataset are train: 0.98, test: 0.87\n",
      "Rsquared value for both train and test dataset are train: 0.91, test: 0.94\n"
     ]
    }
   ],
   "source": [
    "for i in range(10,100, 10):\n",
    "    X_train, X_test, y_train, y_test = train_test_split( X, y, test_size=0.4, random_state=i)\n",
    "    clf.fit(X_train, y_train)\n",
    "    print(\"model score: %.3f\" % clf.score(X_test, y_test))\n",
    "    y_pred_train = clf.predict(X_train)\n",
    "    y_pred_test = clf.predict(X_test)\n",
    "    print('The mean square error for train and test dataset are train: %.2f, test: %.2f' % (\n",
    "        mean_squared_error(y_train, y_pred_train),\n",
    "        mean_squared_error(y_test, y_pred_test)))\n",
    "    print('Rsquared value for both train and test dataset are train: %.2f, test: %.2f' % (\n",
    "        r2_score(y_train, y_pred_train),\n",
    "        r2_score(y_test, y_pred_test)))"
   ]
  },
  {
   "cell_type": "markdown",
   "id": "eleven-british",
   "metadata": {},
   "source": [
    "The first tuning is the random state, i try to fiddle with it by changing the hyperparameter and the first target is random state which is tuned from 10 to 100 with a step of 10. Obviously, tuning the random state might not improve the performance of the model."
   ]
  },
  {
   "cell_type": "code",
   "execution_count": 152,
   "id": "occupied-clerk",
   "metadata": {},
   "outputs": [],
   "source": [
    "#changing to the very common 70-30  train test split\n",
    "X_train, X_test, y_train, y_test = train_test_split(X, y, test_size=0.3,\n",
    "                                                    random_state=0)\n"
   ]
  },
  {
   "cell_type": "markdown",
   "id": "cardiovascular-smell",
   "metadata": {},
   "source": [
    "Here, as part of hyperparameter tuning, I try to tamper with the test_size and change it to 30percent instead of the stated 40percent in the question."
   ]
  },
  {
   "cell_type": "code",
   "execution_count": 153,
   "id": "current-johnson",
   "metadata": {},
   "outputs": [
    {
     "name": "stdout",
     "output_type": "stream",
     "text": [
      "model score: 0.958\n"
     ]
    }
   ],
   "source": [
    "clf.fit(X_train, y_train)\n",
    "print(\"model score: %.3f\" % clf.score(X_test, y_test))"
   ]
  },
  {
   "cell_type": "markdown",
   "id": "united-humanity",
   "metadata": {},
   "source": [
    "Obviously, the model performance improved after changing the test size to be 30percent form 92.8percent to 95.8percent"
   ]
  },
  {
   "cell_type": "code",
   "execution_count": 154,
   "id": "historic-desert",
   "metadata": {},
   "outputs": [],
   "source": [
    "y_pred_train = clf.predict(X_train)\n",
    "y_pred_test = clf.predict(X_test)"
   ]
  },
  {
   "cell_type": "code",
   "execution_count": 155,
   "id": "basic-vegetation",
   "metadata": {},
   "outputs": [
    {
     "name": "stdout",
     "output_type": "stream",
     "text": [
      "The mean square error for train and test dataset are train: 1.15, test: 0.43\n",
      "Rsquared value for both train and test dataset are train: 0.91, test: 0.96\n"
     ]
    }
   ],
   "source": [
    "print('The mean square error for train and test dataset are train: %.2f, test: %.2f' % (\n",
    "        mean_squared_error(y_train, y_pred_train),\n",
    "        mean_squared_error(y_test, y_pred_test)))\n",
    "print('Rsquared value for both train and test dataset are train: %.2f, test: %.2f' % (\n",
    "        r2_score(y_train, y_pred_train),\n",
    "        r2_score(y_test, y_pred_test)))"
   ]
  },
  {
   "cell_type": "markdown",
   "id": "progressive-improvement",
   "metadata": {},
   "source": [
    "# 9. Regularization"
   ]
  },
  {
   "cell_type": "markdown",
   "id": "derived-harris",
   "metadata": {},
   "source": [
    "Regularisation is a technique in machine learning used in reducing the errors by fitting the function in the proper way on a given training set inorder to avoid overfitting.\n",
    "The common regularisation techniques are :\n",
    " 1. Lasso Regularization\n",
    " 2. Ridge Regularization\n",
    " 3. DropOut Regularization\n",
    " \n",
    " The regularization parameter used in this model are Lasso and Ridge which can also be called L1 regularization and L2 regularization respectively."
   ]
  },
  {
   "cell_type": "code",
   "execution_count": 156,
   "id": "spanish-salon",
   "metadata": {},
   "outputs": [
    {
     "data": {
      "text/plain": [
       "Lasso()"
      ]
     },
     "execution_count": 156,
     "metadata": {},
     "output_type": "execute_result"
    }
   ],
   "source": [
    "model = Lasso(alpha=1.0)\n",
    "\n",
    "model.fit(X_train, y_train)"
   ]
  },
  {
   "cell_type": "code",
   "execution_count": 157,
   "id": "foster-fabric",
   "metadata": {},
   "outputs": [
    {
     "name": "stdout",
     "output_type": "stream",
     "text": [
      "Lasso Regression: R^2 score on training set 86.79428733298302\n",
      "Lasso Regression: R^2 score on test set 87.45819602406604\n",
      "mean_square error 1.262614189200625\n",
      "R-square value 0.8745819602406604\n"
     ]
    }
   ],
   "source": [
    "y_predict = model.predict(X_test)\n",
    "coeff_used = np.sum(model.coef_!=0)\n",
    "\n",
    "print('Lasso Regression: R^2 score on training set', model.score(X_train, y_train)*100)\n",
    "print('Lasso Regression: R^2 score on test set', model.score(X_test, y_test)*100)\n",
    "print(\"mean_square error\", mean_squared_error(y_test, y_predict))\n",
    "print(\"R-square value\", r2_score(y_test, y_predict))\n"
   ]
  },
  {
   "cell_type": "markdown",
   "id": "blind-elements",
   "metadata": {},
   "source": [
    "Using Ridge regularization instead of lasso"
   ]
  },
  {
   "cell_type": "code",
   "execution_count": 158,
   "id": "informational-capture",
   "metadata": {},
   "outputs": [
    {
     "name": "stdout",
     "output_type": "stream",
     "text": [
      "R-square value 0.9576567321103178\n",
      "mean_square error 0.42628007069178137\n",
      "number of coefficient used:  4\n",
      "[ 0.01184189 -0.15209024  0.45454502  0.80765908]\n"
     ]
    }
   ],
   "source": [
    "ridge = Ridge(alpha = 0.0, normalize = True)\n",
    "ridge_reg = ridge.fit(X_train, y_train)\n",
    "y_predict = ridge.predict(X_test)\n",
    "coeff_used = np.sum(ridge.coef_!=0)\n",
    "\n",
    "print(\"R-square value\", r2_score(y_test, y_predict))\n",
    "print(\"mean_square error\", mean_squared_error(y_test, y_predict))\n",
    "print(\"number of coefficient used: \", coeff_used)\n",
    "print(ridge.coef_)"
   ]
  },
  {
   "cell_type": "code",
   "execution_count": 159,
   "id": "special-athletics",
   "metadata": {},
   "outputs": [
    {
     "name": "stdout",
     "output_type": "stream",
     "text": [
      "Mean MAE: 0.860 (0.266)\n"
     ]
    }
   ],
   "source": [
    "cv = RepeatedKFold(n_splits=10, n_repeats=3, random_state=1)\n",
    "# evaluate model\n",
    "scores = cross_val_score(model, X, y, scoring='neg_mean_absolute_error', cv=cv, n_jobs=-1)\n",
    "# force scores to be positive\n",
    "scores = absolute(scores)\n",
    "print('Mean MAE: %.3f (%.3f)' % (mean(scores), std(scores)))"
   ]
  },
  {
   "cell_type": "code",
   "execution_count": 160,
   "id": "fewer-fault",
   "metadata": {},
   "outputs": [
    {
     "name": "stdout",
     "output_type": "stream",
     "text": [
      "Mean MAE: 0.630 (0.176)\n"
     ]
    }
   ],
   "source": [
    "cv = RepeatedKFold(n_splits=10, n_repeats=3, random_state=1)\n",
    "# evaluate model\n",
    "scores = cross_val_score(ridge, X, y, scoring='neg_mean_absolute_error', cv=cv, n_jobs=-1)\n",
    "# force scores to be positive\n",
    "scores = absolute(scores)\n",
    "print('Mean MAE: %.3f (%.3f)' % (mean(scores), std(scores)))"
   ]
  },
  {
   "cell_type": "markdown",
   "id": "phantom-healing",
   "metadata": {},
   "source": [
    " Lasso and Ridge regression are being used as our regularization parameter and accuracy score of 86.79 was gotten from the train set while 87.45percent was gotten on the test set on Lasso regression. The r-square value for lasso is 87.45% while r-square value for ridge is 95.7% and obivously ridge performed better than lasso.\n",
    "### As well, after the cross validation was done with RepeatedKFold, The standard deviation is 0.266 for Lasso and 0.176 for ridge. The closer the standard deviation is to zero the better the model will perform. \n",
    " \n",
    "Therefore, we can deduce the outright performance of ridge over lasso."
   ]
  },
  {
   "cell_type": "markdown",
   "id": "fourth-cartridge",
   "metadata": {},
   "source": [
    "# 10. Regularization parameters value vs. Pearson Correlation"
   ]
  },
  {
   "cell_type": "code",
   "execution_count": 161,
   "id": "divided-scheduling",
   "metadata": {},
   "outputs": [
    {
     "name": "stdout",
     "output_type": "stream",
     "text": [
      "<class 'numpy.float64'>\n",
      "<class 'numpy.float64'>\n",
      "<class 'numpy.float64'>\n",
      "<class 'numpy.float64'>\n",
      "<class 'numpy.float64'>\n",
      "<class 'numpy.float64'>\n",
      "<class 'numpy.float64'>\n",
      "<class 'numpy.float64'>\n",
      "<class 'numpy.float64'>\n",
      "<class 'numpy.float64'>\n",
      "[0.9113130462127699, 0.8686428208766988, 0.8556506049308372, 0.8550783003661447, 0.8543917817683322, 0.8535910491373996, 0.8526761024733468, 0.8516469417761738, 0.8505035670458807, 0.8492459782824675]\n"
     ]
    },
    {
     "name": "stderr",
     "output_type": "stream",
     "text": [
      "<ipython-input-161-7489959ce1a3>:5: UserWarning: With alpha=0, this algorithm does not converge well. You are advised to use the LinearRegression estimator\n",
      "  cll.fit(X,y)\n",
      "/home/wizardcalidad/Desktop/Nano/env/lib/python3.8/site-packages/sklearn/linear_model/_coordinate_descent.py:530: UserWarning: Coordinate descent with no regularization may lead to unexpected results and is discouraged.\n",
      "  model = cd_fast.enet_coordinate_descent(\n",
      "/home/wizardcalidad/Desktop/Nano/env/lib/python3.8/site-packages/sklearn/linear_model/_coordinate_descent.py:530: ConvergenceWarning: Objective did not converge. You might want to increase the number of iterations. Duality gap: 73.19362519442656, tolerance: 0.19270836430379745\n",
      "  model = cd_fast.enet_coordinate_descent(\n"
     ]
    }
   ],
   "source": [
    "las= []\n",
    "i = np.linspace(0.1, 1.0, 10)\n",
    "for i in range(10):\n",
    "    cll = Lasso(alpha=i)\n",
    "    cll.fit(X,y)\n",
    "    las_reg = cll.score(X_train,y_train)\n",
    "    print(type(las_reg))\n",
    "    las.append(las_reg)\n",
    "print(las)"
   ]
  },
  {
   "cell_type": "code",
   "execution_count": 166,
   "id": "induced-function",
   "metadata": {},
   "outputs": [
    {
     "name": "stdout",
     "output_type": "stream",
     "text": [
      "(0.0, 0.978855727656066, 0.9547282954634805, 0.911506118158603, 0.9576567321103182)\n",
      "(0.1111111111111111, 0.9788719541882293, 0.9547282332176816, 0.9115059941699266, 0.9576871417572292)\n",
      "(0.2222222222222222, 0.9788877983295237, 0.9547280473660463, 0.911505624040146, 0.9577168201354925)\n",
      "(0.3333333333333333, 0.9789032639290989, 0.9547277392266654, 0.911505010500645, 0.9577457748540426)\n",
      "(0.4444444444444444, 0.9789183547962299, 0.9547273101036852, 0.9115041562524582, 0.9577740134379485)\n",
      "(0.5555555555555556, 0.9789330747007761, 0.9547267612874797, 0.9115030639666458, 0.9578015433294631)\n",
      "(0.6666666666666666, 0.9789474273736254, 0.9547260940547982, 0.9115017362846654, 0.9578283718890533)\n",
      "(0.7777777777777777, 0.9789614165071375, 0.9547253096689401, 0.9115001758187351, 0.9578545063964193)\n",
      "(0.8888888888888888, 0.9789750457555795, 0.9547244093798972, 0.9114983851521948, 0.9578799540514973)\n",
      "(1.0, 0.9789883187355575, 0.9547233944245113, 0.9114963668398609, 0.9579047219754482)\n"
     ]
    }
   ],
   "source": [
    "alphas = []\n",
    "corr_test = []\n",
    "corr_train = []\n",
    "train_scores = []\n",
    "test_scores = []\n",
    "alpha_options = np.linspace(0, 1.0, 10)\n",
    "for i in alpha_options:\n",
    "    cll = Ridge(alpha=i)\n",
    "    cll.fit(X_train,y_train)\n",
    "    \n",
    "    alphas.append(i)\n",
    "    \n",
    "    y_test_pred = cll.predict(X_test)\n",
    "    test_scores.append(cll.score(X_test, y_test))\n",
    "    corr_test.append(np.corrcoef(y_test, y_test_pred)[0,1])\n",
    "    \n",
    "    y_train_pred = cll.predict(X_train)\n",
    "    train_scores.append(cll.score(X_train, y_train))\n",
    "    corr_train.append(np.corrcoef(y_train, y_train_pred)[0,1])\n",
    "\n",
    "corr_train = np.array(corr_train)\n",
    "corr_test = np.array(corr_test)\n",
    "z = list(zip(alphas, corr_test, corr_train, train_scores, test_scores))\n",
    "for zz in z:\n",
    "    print(zz)"
   ]
  },
  {
   "cell_type": "code",
   "execution_count": 167,
   "id": "headed-purse",
   "metadata": {},
   "outputs": [
    {
     "name": "stdout",
     "output_type": "stream",
     "text": [
      "[[1.         0.99742558 0.98289187 ... 0.99997467 0.99840127 0.99804312]\n",
      " [0.99742558 1.         0.96936321 ... 0.99775764 0.99944026 0.99985258]\n",
      " [0.98289187 0.96936321 1.         ... 0.9815844  0.97622389 0.97023036]\n",
      " ...\n",
      " [0.99997467 0.99775764 0.9815844  ... 1.         0.99849606 0.99839052]\n",
      " [0.99840127 0.99944026 0.97622389 ... 0.99849606 1.         0.99917484]\n",
      " [0.99804312 0.99985258 0.97023036 ... 0.99839052 0.99917484 1.        ]]\n"
     ]
    }
   ],
   "source": [
    "Pearson = np.corrcoef(X_train,X_test)\n",
    "print(Pearson)"
   ]
  },
  {
   "cell_type": "code",
   "execution_count": 168,
   "id": "environmental-chrome",
   "metadata": {},
   "outputs": [
    {
     "data": {
      "image/png": "[encoded data removed]",
      "text/plain": [
       "<Figure size 432x288 with 1 Axes>"
      ]
     },
     "metadata": {},
     "output_type": "display_data"
    }
   ],
   "source": [
    "plt.plot((corr_train-corr_train.min()) / (corr_train.max() - corr_train.min()), alphas)\n",
    "plt.plot((corr_test-corr_test.min()) / (corr_test.max()-corr_test.min()), alphas)\n",
    "plt.ylabel('Pearson Correlation')\n",
    "plt.legend([\"train\", \"test\"])\n",
    "plt.show()"
   ]
  },
  {
   "cell_type": "code",
   "execution_count": 169,
   "id": "minor-invite",
   "metadata": {},
   "outputs": [
    {
     "data": {
      "image/png": "[encoded data removed]",
      "text/plain": [
       "<Figure size 432x288 with 1 Axes>"
      ]
     },
     "metadata": {},
     "output_type": "display_data"
    }
   ],
   "source": [
    "plt.plot(corr_test, alphas)\n",
    "\n",
    "plt.ylabel('Pearson Correlation')\n",
    "plt.show()"
   ]
  },
  {
   "cell_type": "code",
   "execution_count": 170,
   "id": "bronze-customer",
   "metadata": {
    "tags": []
   },
   "outputs": [
    {
     "data": {
      "image/png": "[encoded data removed]",
      "text/plain": [
       "<Figure size 432x288 with 1 Axes>"
      ]
     },
     "metadata": {},
     "output_type": "display_data"
    }
   ],
   "source": [
    "plt.plot( corr_train, alphas)\n",
    "\n",
    "plt.ylabel('Pearson Correlation')\n",
    "plt.show()"
   ]
  },
  {
   "cell_type": "markdown",
   "id": "chief-contamination",
   "metadata": {},
   "source": [
    "### From the graph above, we can always say that on the train plot, the correlation decreases with increase in the alpha value probably because of the high penalty in the lasso regularization used. and while plotting the train against test, there is a tradeoff between bias and variance, because the "
   ]
  },
  {
   "cell_type": "code",
   "execution_count": null,
   "id": "amber-customs",
   "metadata": {},
   "outputs": [],
   "source": []
  }
 ],
 "metadata": {
  "kernelspec": {
   "display_name": "Python 3",
   "language": "python",
   "name": "python3"
  },
  "language_info": {
   "codemirror_mode": {
    "name": "ipython",
    "version": 3
   },
   "file_extension": ".py",
   "mimetype": "text/x-python",
   "name": "python",
   "nbconvert_exporter": "python",
   "pygments_lexer": "ipython3",
   "version": "3.8.5"
  }
 },
 "nbformat": 4,
 "nbformat_minor": 5
}
